{
  "cells": [
    {
      "cell_type": "code",
      "execution_count": 6,
      "metadata": {
        "id": "Q1vb92WF2IFn"
      },
      "outputs": [],
      "source": [
        "# Code for Exercise 0\n",
        "def hello_world():\n",
        "    return \"Hello, world!\""
      ]
    },
    {
      "cell_type": "code",
      "execution_count": 7,
      "metadata": {
        "id": "IzQqh3Wq2IFq"
      },
      "outputs": [],
      "source": [
        "# Code for Exercise 1\n",
        "def factorial(n):\n",
        "    if n < 0:\n",
        "      print(\"Please enter a positive integer.\")\n",
        "    elif n == 0:\n",
        "      return 1\n",
        "    else:\n",
        "      acc = 1\n",
        "      i = 1\n",
        "      while i <= n:\n",
        "        acc = i * acc\n",
        "        i = i + 1\n",
        "      return acc\n"
      ]
    }
  ],
  "metadata": {
    "kernelspec": {
      "display_name": "Python 3",
      "language": "python",
      "name": "python3"
    },
    "language_info": {
      "codemirror_mode": {
        "name": "ipython",
        "version": 3
      },
      "file_extension": ".py",
      "mimetype": "text/x-python",
      "name": "python",
      "nbconvert_exporter": "python",
      "pygments_lexer": "ipython3",
      "version": "3.7.3"
    },
    "colab": {
      "name": "submission.ipynb",
      "provenance": []
    }
  },
  "nbformat": 4,
  "nbformat_minor": 0
}